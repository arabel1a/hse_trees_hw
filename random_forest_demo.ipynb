{
 "cells": [
  {
   "cell_type": "code",
   "execution_count": 1,
   "id": "87edfa76-a31e-4497-9bd4-7287b0745acd",
   "metadata": {},
   "outputs": [],
   "source": [
    "import numpy as np\n",
    "import pandas as pd\n",
    "from id3 import DecisionTreeClassifier, DecisionTree\n",
    "from utils import train_test_split, classification_report\n",
    "from random_forest import RandomForest"
   ]
  },
  {
   "cell_type": "code",
   "execution_count": 2,
   "id": "93da5553-9f27-4937-8223-bc9a045069f8",
   "metadata": {},
   "outputs": [],
   "source": [
    "data = pd.read_csv(\"toy_data/mushrooms.csv\")\n",
    "X = data.drop(columns=\"class\")\n",
    "y = data[\"class\"].astype(str)\n",
    "X_train, X_test, y_train, y_test = train_test_split(X, y)"
   ]
  },
  {
   "cell_type": "code",
   "execution_count": 3,
   "id": "46503f9a-e106-4e77-a8c5-92f261081151",
   "metadata": {},
   "outputs": [
    {
     "name": "stdout",
     "output_type": "stream",
     "text": [
      "  Class    | Precision  |   Recall   |  F1-Score \n",
      "---------------------------------------------\n",
      "    e      |    0.52    |    0.57    |    0.54   \n",
      "    p      |    0.47    |    0.42    |    0.45   \n",
      "\n"
     ]
    }
   ],
   "source": [
    "forest = RandomForest(DecisionTreeClassifier(max_depth=10), n_trees=2)\n",
    "forest.fit(X_train, y_train)\n",
    "y_pred = forest.predict(X_test)\n",
    "print(classification_report(y_pred[0], y_test))"
   ]
  },
  {
   "cell_type": "code",
   "execution_count": 4,
   "id": "c413e817-d858-4ea6-8b1b-5f917113570e",
   "metadata": {},
   "outputs": [
    {
     "name": "stderr",
     "output_type": "stream",
     "text": [
      "\n",
      "KeyboardInterrupt\n",
      "\n"
     ]
    }
   ],
   "source": [
    "forest = RandomForest(DecisionTree(max_depth=10), n_trees=2)\n",
    "forest.fit(X_train, y_train)\n",
    "y_pred = forest.predict(X_test)\n",
    "print(classification_report(y_pred[0], y_test))"
   ]
  }
 ],
 "metadata": {
  "kernelspec": {
   "display_name": "Python 3 (ipykernel)",
   "language": "python",
   "name": "python3"
  },
  "language_info": {
   "codemirror_mode": {
    "name": "ipython",
    "version": 3
   },
   "file_extension": ".py",
   "mimetype": "text/x-python",
   "name": "python",
   "nbconvert_exporter": "python",
   "pygments_lexer": "ipython3",
   "version": "3.11.6"
  }
 },
 "nbformat": 4,
 "nbformat_minor": 5
}
