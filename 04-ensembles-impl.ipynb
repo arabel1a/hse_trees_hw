{
 "cells": [
  {
   "cell_type": "code",
   "execution_count": 1,
   "id": "87edfa76-a31e-4497-9bd4-7287b0745acd",
   "metadata": {},
   "outputs": [],
   "source": [
    "import numpy as np\n",
    "import pandas as pd\n",
    "from id3.ID3 import DecisionTreeClassifier\n",
    "from id3.id3 import DecisionTree"
   ]
  },
  {
   "cell_type": "code",
   "execution_count": 2,
   "id": "56ab75f9-4af3-49f9-ad38-59644e6b62b3",
   "metadata": {},
   "outputs": [],
   "source": [
    "class RandomForest:\n",
    "    def __init__(self, n_trees:int, max_depth=10, base_estimator=DecisionTree,  seed=123):\n",
    "        np.random.seed(seed)\n",
    "        self.n_trees = n_trees\n",
    "        self.max_depth = max_depth\n",
    "        self.base_estimator = base_estimator\n",
    "        \n",
    "    def fit(self, features, target):\n",
    "        self.n_features = features.shape[1]    \n",
    "        self.x = features\n",
    "        self.y = target\n",
    "        self.trees = [self.create_tree() for i in range(self.n_trees)]\n",
    "\n",
    "    def create_tree(self):\n",
    "        # Divide databse into small dataset\n",
    "        sample_count = self.y.shape[0]\n",
    "        idx = np.random.choice(\n",
    "            np.arange(sample_count), \n",
    "            size=sample_count, \n",
    "            replace = True\n",
    "        )\n",
    "\n",
    "        y = self.y.iloc[idx].copy()\n",
    "        x = self.x.iloc[idx].copy()\n",
    "                \n",
    "        # model = #DecisionTreeClassifier(max_depth=self.max_depth)\n",
    "        \n",
    "        model = self.base_estimator()\n",
    "        if self.base_estimator is DecisionTreeClassifier:\n",
    "            model.fit(x, y, max_depth=self.max_depth)\n",
    "        elif self.base_estimator is DecisionTree:\n",
    "            x['target'] = y\n",
    "            model.fit(x, target='target', max_depth=self.max_depth)\n",
    "        \n",
    "        return model\n",
    "\n",
    "    def predict(self,x):\n",
    "        prediction = []\n",
    "\n",
    "        for dt in self.trees:\n",
    "            prediction.append(dt.predict(x).to_numpy()[None, ...])\n",
    "        \n",
    "        preds = np.concatenate(prediction, 0)\n",
    "        preds = pd.DataFrame(preds.T).mode(axis=1)\n",
    "        return preds"
   ]
  },
  {
   "cell_type": "code",
   "execution_count": 3,
   "id": "93da5553-9f27-4937-8223-bc9a045069f8",
   "metadata": {},
   "outputs": [],
   "source": [
    "data = pd.read_csv(\"id3/mushrooms.csv\")\n",
    "from sklearn.model_selection import train_test_split\n",
    "from sklearn.metrics import classification_report\n",
    "\n",
    "X = data.drop(columns = \"class\")\n",
    "y = data[\"class\"].astype(str)\n",
    "\n",
    "X_train, X_test, y_train, y_test = train_test_split(X, y, train_size=0.8, random_state=42, shuffle=True, stratify=y)"
   ]
  },
  {
   "cell_type": "code",
   "execution_count": 4,
   "id": "05e84488-2faa-4a79-aa23-17a0f1613e52",
   "metadata": {},
   "outputs": [
    {
     "name": "stdout",
     "output_type": "stream",
     "text": [
      "              precision    recall  f1-score   support\n",
      "\n",
      "   Undefined       0.00      0.00      0.00         0\n",
      "           e       1.00      1.00      1.00       842\n",
      "           p       1.00      0.48      0.65       783\n",
      "\n",
      "    accuracy                           0.75      1625\n",
      "   macro avg       0.67      0.49      0.55      1625\n",
      "weighted avg       1.00      0.75      0.83      1625\n",
      "\n"
     ]
    },
    {
     "name": "stderr",
     "output_type": "stream",
     "text": [
      "/home/arabella/.local/lib/python3.11/site-packages/sklearn/metrics/_classification.py:1469: UndefinedMetricWarning: Recall and F-score are ill-defined and being set to 0.0 in labels with no true samples. Use `zero_division` parameter to control this behavior.\n",
      "  _warn_prf(average, modifier, msg_start, len(result))\n",
      "/home/arabella/.local/lib/python3.11/site-packages/sklearn/metrics/_classification.py:1469: UndefinedMetricWarning: Recall and F-score are ill-defined and being set to 0.0 in labels with no true samples. Use `zero_division` parameter to control this behavior.\n",
      "  _warn_prf(average, modifier, msg_start, len(result))\n",
      "/home/arabella/.local/lib/python3.11/site-packages/sklearn/metrics/_classification.py:1469: UndefinedMetricWarning: Recall and F-score are ill-defined and being set to 0.0 in labels with no true samples. Use `zero_division` parameter to control this behavior.\n",
      "  _warn_prf(average, modifier, msg_start, len(result))\n"
     ]
    }
   ],
   "source": [
    "tree = DecisionTree()\n",
    "df = X_train\n",
    "df['target'] = y_train\n",
    "\n",
    "tree.fit(df, target='target', max_depth=4)\n",
    "\n",
    "y_pred = tree.predict(X_test)\n",
    "# y_pred[y_pred=='Undefined'] = 'e'\n",
    "print(classification_report(y_test, y_pred))"
   ]
  },
  {
   "cell_type": "code",
   "execution_count": 5,
   "id": "3d9956f9-2dff-40c0-a83d-01affa71f1f0",
   "metadata": {},
   "outputs": [],
   "source": [
    "y_pred = tree.predict(X_test).to_numpy()"
   ]
  },
  {
   "cell_type": "code",
   "execution_count": 6,
   "id": "25705ca5-e68b-4388-9519-06543fd77206",
   "metadata": {},
   "outputs": [
    {
     "data": {
      "text/plain": [
       "array(['Undefined', 'p', 'e', ..., 'e', 'e', 'Undefined'], dtype=object)"
      ]
     },
     "execution_count": 6,
     "metadata": {},
     "output_type": "execute_result"
    }
   ],
   "source": [
    "y_pred"
   ]
  },
  {
   "cell_type": "code",
   "execution_count": 7,
   "id": "c413e817-d858-4ea6-8b1b-5f917113570e",
   "metadata": {},
   "outputs": [],
   "source": [
    "forest = RandomForest(30, 4)\n",
    "forest.fit(X_train, y_train)"
   ]
  },
  {
   "cell_type": "code",
   "execution_count": 8,
   "id": "65adca2c-a166-4ec6-bdde-cc53fabfc19e",
   "metadata": {},
   "outputs": [
    {
     "name": "stdout",
     "output_type": "stream",
     "text": [
      "              precision    recall  f1-score   support\n",
      "\n",
      "   Undefined       0.00      0.00      0.00       406\n",
      "           e       1.00      1.00      1.00       842\n",
      "           p       0.48      1.00      0.65       377\n",
      "\n",
      "    accuracy                           0.75      1625\n",
      "   macro avg       0.49      0.67      0.55      1625\n",
      "weighted avg       0.63      0.75      0.67      1625\n",
      "\n"
     ]
    },
    {
     "name": "stderr",
     "output_type": "stream",
     "text": [
      "/home/arabella/.local/lib/python3.11/site-packages/sklearn/metrics/_classification.py:1469: UndefinedMetricWarning: Precision and F-score are ill-defined and being set to 0.0 in labels with no predicted samples. Use `zero_division` parameter to control this behavior.\n",
      "  _warn_prf(average, modifier, msg_start, len(result))\n",
      "/home/arabella/.local/lib/python3.11/site-packages/sklearn/metrics/_classification.py:1469: UndefinedMetricWarning: Precision and F-score are ill-defined and being set to 0.0 in labels with no predicted samples. Use `zero_division` parameter to control this behavior.\n",
      "  _warn_prf(average, modifier, msg_start, len(result))\n",
      "/home/arabella/.local/lib/python3.11/site-packages/sklearn/metrics/_classification.py:1469: UndefinedMetricWarning: Precision and F-score are ill-defined and being set to 0.0 in labels with no predicted samples. Use `zero_division` parameter to control this behavior.\n",
      "  _warn_prf(average, modifier, msg_start, len(result))\n"
     ]
    }
   ],
   "source": [
    "y_pred = forest.predict(X_test)\n",
    "print(classification_report(y_pred[0], y_test))"
   ]
  },
  {
   "cell_type": "code",
   "execution_count": 9,
   "id": "1f454664-802b-4829-a5d9-1668f315860b",
   "metadata": {},
   "outputs": [],
   "source": [
    "class WeightedDecisionTreeClassifier():\n",
    "    pass"
   ]
  },
  {
   "cell_type": "code",
   "execution_count": 10,
   "id": "dbc9330c-de62-43b6-aa22-a5f9c421b92e",
   "metadata": {},
   "outputs": [],
   "source": [
    "class BinaryAdaBoostClassifier():\n",
    "    def __init__(self, n_estimators=50, learning_rate=1):\n",
    "            \n",
    "        self.n_estimators = n_estimators\n",
    "        self.learning_rate = learning_rate\n",
    "        \n",
    "        self.estimators = None\n",
    "        self.estimator_weights = None\n",
    "        \n",
    "    def fit(self, X, y, X_val=None, y_val=None):\n",
    "        #  resetting lists \n",
    "        self.estimators = []\n",
    "        self.estimator_weights = []\n",
    "        lr = self.learning_rate\n",
    "        \n",
    "        # initialise equal weights\n",
    "        sample_weights = ...\n",
    "        \n",
    "        for est_i in range(self.n_estimators):\n",
    "            # fit weak estimator\n",
    "            ...\n",
    "            \n",
    "            # calculate total error\n",
    "            ...\n",
    "\n",
    "            # find voting weights\n",
    "            ...\n",
    "\n",
    "            # save current estimator\n",
    "            self.estimators.append(estimator)\n",
    "            self.estimator_weights.append(amount_of_say)\n",
    "            \n",
    "            # update sample weights\n",
    "            ...\n",
    "\n",
    "            # renormalize weights\n",
    "            sample_weights = sample_weights / sample_weights.sum()\n",
    "    \n",
    "    def predict(self, X, verbose=False):\n",
    "        ..."
   ]
  },
  {
   "cell_type": "code",
   "execution_count": null,
   "id": "3a7cba3d-5a91-41c5-b07f-83b467d120e2",
   "metadata": {},
   "outputs": [],
   "source": []
  }
 ],
 "metadata": {
  "kernelspec": {
   "display_name": "Python 3 (ipykernel)",
   "language": "python",
   "name": "python3"
  },
  "language_info": {
   "codemirror_mode": {
    "name": "ipython",
    "version": 3
   },
   "file_extension": ".py",
   "mimetype": "text/x-python",
   "name": "python",
   "nbconvert_exporter": "python",
   "pygments_lexer": "ipython3",
   "version": "3.11.6"
  }
 },
 "nbformat": 4,
 "nbformat_minor": 5
}
